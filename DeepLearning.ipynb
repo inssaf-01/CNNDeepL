{
 "cells": [
  {
   "cell_type": "code",
   "execution_count": 3,
   "id": "17a36d76-f272-4d99-83c9-5a0db37ac622",
   "metadata": {},
   "outputs": [
    {
     "ename": "SyntaxError",
     "evalue": "invalid syntax (2089169249.py, line 3)",
     "output_type": "error",
     "traceback": [
      "\u001b[1;36m  Cell \u001b[1;32mIn[3], line 3\u001b[1;36m\u001b[0m\n\u001b[1;33m    pip install tensorflow keras matplotlib scikit-learn\u001b[0m\n\u001b[1;37m        ^\u001b[0m\n\u001b[1;31mSyntaxError\u001b[0m\u001b[1;31m:\u001b[0m invalid syntax\n"
     ]
    }
   ],
   "source": [
    "#Étape 1 : Préparation de l'environnement\n",
    "#Installation des bibliothèques nécessaires :\n",
    "pip install tensorflow keras matplotlib scikit-learn"
   ]
  },
  {
   "cell_type": "code",
   "execution_count": null,
   "id": "d1699360-5aba-4dcf-bfcb-9541abd82697",
   "metadata": {},
   "outputs": [],
   "source": [
    "python -m pip show tensorflow keras matplotlib scikit-learn"
   ]
  },
  {
   "cell_type": "code",
   "execution_count": null,
   "id": "4ba7b901-645a-4d18-a0c1-a37b712e641d",
   "metadata": {},
   "outputs": [],
   "source": [
    "#Étape 2 : Chargement des données"
   ]
  },
  {
   "cell_type": "code",
   "execution_count": null,
   "id": "6844eaaa-faee-4b77-b029-26c0cf1c3dfd",
   "metadata": {},
   "outputs": [],
   "source": [
    "#Importations :\n",
    "import tensorflow as tf\n",
    "from tensorflow import keras\n",
    "from tensorflow.keras import Input\n",
    "from tensorflow.keras.models import Sequential\n",
    "from tensorflow.keras.layers import Conv2D, MaxPooling2D, Flatten, Dense, Dropout\n",
    "from tensorflow.keras.optimizers import Adam\n",
    "import matplotlib.pyplot as plt\n",
    "from sklearn.model_selection import train_test_split\n",
    "from sklearn.metrics import classification_report, confusion_matrix\n",
    "from tensorflow.keras.preprocessing.image import ImageDataGenerator\n"
   ]
  },
  {
   "cell_type": "code",
   "execution_count": null,
   "id": "f8b61652-b026-4e7f-96c7-a9f9e265c6bf",
   "metadata": {},
   "outputs": [],
   "source": [
    "# Définir les chemins\n",
    "import os  # Importer le module os\n",
    "base_dir = r\"C:\\Users\\inssa\\Desktop\\SIG\\chest_xray\\chest_xray\"\n",
    "train_dir = os.path.join(base_dir, \"train\")\n",
    "val_dir = os.path.join(base_dir, \"val\")\n",
    "test_dir = os.path.join(base_dir, \"test\")\n"
   ]
  },
  {
   "cell_type": "code",
   "execution_count": null,
   "id": "58182281-79e1-4da1-ac7f-6331bf25a8ef",
   "metadata": {},
   "outputs": [],
   "source": [
    "# Préparation des générateurs de données\n",
    "datagen = ImageDataGenerator(rescale=1.0/255)\n",
    "\n",
    "train_generator = datagen.flow_from_directory(\n",
    "    train_dir,\n",
    "    target_size=(150, 150),\n",
    "    batch_size=32,\n",
    "    class_mode='binary'\n",
    ")\n",
    "\n",
    "val_generator = datagen.flow_from_directory(\n",
    "    val_dir,\n",
    "    target_size=(150, 150),\n",
    "    batch_size=32,\n",
    "    class_mode='binary'\n",
    ")\n",
    "\n",
    "test_generator = datagen.flow_from_directory(\n",
    "    test_dir,\n",
    "    target_size=(150, 150),\n",
    "    batch_size=32,\n",
    "    class_mode='binary',\n",
    "    shuffle=False\n",
    ")"
   ]
  },
  {
   "cell_type": "code",
   "execution_count": null,
   "id": "6492d072-f880-4844-bc12-18c2f5586321",
   "metadata": {},
   "outputs": [],
   "source": [
    "#Étape 3 : Création du modèle CNN"
   ]
  },
  {
   "cell_type": "code",
   "execution_count": null,
   "id": "ad6bda6e-d4bd-4d81-a8cd-1f9965e7602a",
   "metadata": {},
   "outputs": [],
   "source": [
    "# Définir le modèle CNN\n",
    "model = Sequential([\n",
    "    Conv2D(32, (3, 3), activation='relu', input_shape=(150, 150, 3)),\n",
    "    MaxPooling2D(pool_size=(2, 2)),\n",
    "    Conv2D(64, (3, 3), activation='relu'),\n",
    "    MaxPooling2D(pool_size=(2, 2)),\n",
    "    Conv2D(128, (3, 3), activation='relu'),\n",
    "    MaxPooling2D(pool_size=(2, 2)),\n",
    "    Flatten(),\n",
    "    Dense(128, activation='relu'),\n",
    "    Dropout(0.5),\n",
    "    Dense(1, activation='sigmoid')  # Pour la classification binaire\n",
    "])\n",
    "\n",
    "# Compilation du modèle\n",
    "model.compile(optimizer=Adam(learning_rate=0.001), loss='binary_crossentropy', metrics=['accuracy'])\n",
    "\n",
    "# Résumé du modèle\n",
    "model.summary()"
   ]
  },
  {
   "cell_type": "code",
   "execution_count": null,
   "id": "a62399b9-b573-476b-8143-151007189290",
   "metadata": {},
   "outputs": [],
   "source": [
    "#Étape 4 : Entraînement du modèle"
   ]
  },
  {
   "cell_type": "code",
   "execution_count": null,
   "id": "d340ca7c-1a03-4c9e-81de-d6feb82379af",
   "metadata": {},
   "outputs": [],
   "source": [
    "# Entraîner le modèle\n",
    "history = model.fit(\n",
    "    train_generator,\n",
    "    steps_per_epoch=len(train_generator),\n",
    "    epochs=10,\n",
    "    validation_data=val_generator,\n",
    "    validation_steps=len(val_generator)\n",
    ")\n"
   ]
  },
  {
   "cell_type": "code",
   "execution_count": null,
   "id": "43491a96-c328-4ed6-9b64-cfe128cd268e",
   "metadata": {},
   "outputs": [],
   "source": [
    "#Étape 5 : Évaluation et test"
   ]
  },
  {
   "cell_type": "code",
   "execution_count": null,
   "id": "472229bb-cb77-405e-b21a-4d4d236849d9",
   "metadata": {},
   "outputs": [],
   "source": [
    "# Évaluer sur les données de test\n",
    "test_loss, test_accuracy = model.evaluate(test_generator)\n",
    "print(f\"Test Accuracy: {test_accuracy * 100:.2f}%\")\n",
    "\n",
    "# Prédictions\n",
    "predictions = (model.predict(test_generator) > 0.5).astype(\"int32\")\n",
    "\n",
    "# Rapport de classification\n",
    "print(classification_report(test_generator.classes, predictions, target_names=['Normal', 'Pneumonia']))\n",
    "\n",
    "# Matrice de confusion\n",
    "conf_matrix = confusion_matrix(test_generator.classes, predictions)\n",
    "print(conf_matrix)\n"
   ]
  },
  {
   "cell_type": "code",
   "execution_count": null,
   "id": "772b888b-a504-49df-aca9-2075d57d0e62",
   "metadata": {},
   "outputs": [],
   "source": [
    "#Étape 6 : Visualisation des résultats"
   ]
  },
  {
   "cell_type": "code",
   "execution_count": null,
   "id": "f987688b-c31a-4e9d-88ab-ab452af366d0",
   "metadata": {},
   "outputs": [],
   "source": [
    "# Visualisation des résultats\n",
    "plt.figure(figsize=(12, 4))\n",
    "plt.subplot(1, 2, 1)\n",
    "plt.plot(history.history['accuracy'], label='Train Accuracy')\n",
    "plt.plot(history.history['val_accuracy'], label='Val Accuracy')\n",
    "plt.title('Accuracy')\n",
    "plt.legend()\n",
    "\n",
    "plt.subplot(1, 2, 2)\n",
    "plt.plot(history.history['loss'], label='Train Loss')\n",
    "plt.plot(history.history['val_loss'], label='Val Loss')\n",
    "plt.title('Loss')\n",
    "plt.legend()\n",
    "\n",
    "plt.show()\n"
   ]
  },
  {
   "cell_type": "code",
   "execution_count": null,
   "id": "a7c0183e-510e-43bd-a368-d1a73e29bf7f",
   "metadata": {},
   "outputs": [],
   "source": [
    "#Étape 7 : Sauvegarde du modèle"
   ]
  },
  {
   "cell_type": "code",
   "execution_count": 13,
   "id": "8705fc64-6dde-41e5-aa74-a44dbe55a679",
   "metadata": {},
   "outputs": [
    {
     "ename": "NameError",
     "evalue": "name 'model' is not defined",
     "output_type": "error",
     "traceback": [
      "\u001b[1;31m---------------------------------------------------------------------------\u001b[0m",
      "\u001b[1;31mNameError\u001b[0m                                 Traceback (most recent call last)",
      "Cell \u001b[1;32mIn[13], line 1\u001b[0m\n\u001b[1;32m----> 1\u001b[0m model\u001b[38;5;241m.\u001b[39msave(\u001b[38;5;124m'\u001b[39m\u001b[38;5;124mchest_xray_cnn_model.h5\u001b[39m\u001b[38;5;124m'\u001b[39m)\n",
      "\u001b[1;31mNameError\u001b[0m: name 'model' is not defined"
     ]
    }
   ],
   "source": [
    "model.save('chest_xray_cnn_model.h5')"
   ]
  },
  {
   "cell_type": "code",
   "execution_count": null,
   "id": "ebd06a82-7f23-4cf8-93ed-05d54ffab8d6",
   "metadata": {},
   "outputs": [],
   "source": []
  }
 ],
 "metadata": {
  "kernelspec": {
   "display_name": "Python 3 (ipykernel)",
   "language": "python",
   "name": "python3"
  },
  "language_info": {
   "codemirror_mode": {
    "name": "ipython",
    "version": 3
   },
   "file_extension": ".py",
   "mimetype": "text/x-python",
   "name": "python",
   "nbconvert_exporter": "python",
   "pygments_lexer": "ipython3",
   "version": "3.12.4"
  }
 },
 "nbformat": 4,
 "nbformat_minor": 5
}
